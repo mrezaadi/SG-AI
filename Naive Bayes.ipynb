{
  "nbformat": 4,
  "nbformat_minor": 0,
  "metadata": {
    "colab": {
      "name": "SG AI - Naive Bayes - Muhammad Reza Adi Nugraha.ipynb",
      "provenance": [],
      "collapsed_sections": [],
      "authorship_tag": "ABX9TyPA6cTxOrGE9icFBcT+nTLW",
      "include_colab_link": true
    },
    "kernelspec": {
      "name": "python3",
      "display_name": "Python 3"
    },
    "language_info": {
      "name": "python"
    }
  },
  "cells": [
    {
      "cell_type": "markdown",
      "metadata": {
        "id": "view-in-github",
        "colab_type": "text"
      },
      "source": [
        "<a href=\"https://colab.research.google.com/github/mrezaadi/SG-AI/blob/main/Naive%20Bayes.ipynb\" target=\"_parent\"><img src=\"https://colab.research.google.com/assets/colab-badge.svg\" alt=\"Open In Colab\"/></a>"
      ]
    },
    {
      "cell_type": "markdown",
      "metadata": {
        "id": "BZ-kUmOsswdj"
      },
      "source": [
        "**IMPORT LIBARY YANG DIBUTUHKAN**"
      ]
    },
    {
      "cell_type": "code",
      "metadata": {
        "id": "fdh5p3c3R6OD"
      },
      "source": [
        "import pandas as pd"
      ],
      "execution_count": null,
      "outputs": []
    },
    {
      "cell_type": "markdown",
      "metadata": {
        "id": "90bDk9UAs12a"
      },
      "source": [
        "**DOWNLOAD FILE DARI GOOGLE DRIVE**"
      ]
    },
    {
      "cell_type": "code",
      "metadata": {
        "colab": {
          "base_uri": "https://localhost:8080/"
        },
        "id": "wRgyENZoSUjm",
        "outputId": "d7a3b396-8710-4f37-9af6-cf7980add72f"
      },
      "source": [
        "!gdown --id 1up5Kg62f_hh3RHyZZ0NyltLQBR44WX_8"
      ],
      "execution_count": null,
      "outputs": [
        {
          "output_type": "stream",
          "name": "stdout",
          "text": [
            "Downloading...\n",
            "From: https://drive.google.com/uc?id=1up5Kg62f_hh3RHyZZ0NyltLQBR44WX_8\n",
            "To: /content/dataset.xlsx\n",
            "\r  0% 0.00/5.15k [00:00<?, ?B/s]\r100% 5.15k/5.15k [00:00<00:00, 11.3MB/s]\n"
          ]
        }
      ]
    },
    {
      "cell_type": "markdown",
      "metadata": {
        "id": "FBInKIHSs7rq"
      },
      "source": [
        "**MASUKKAN DATA DARI GOOGLE DRIVE KE DALAM DATAFRAME**"
      ]
    },
    {
      "cell_type": "code",
      "metadata": {
        "colab": {
          "base_uri": "https://localhost:8080/",
          "height": 514
        },
        "id": "Z9kMBh17Saxc",
        "outputId": "f1afc9b3-9129-4e09-c246-cdfa8689240f"
      },
      "source": [
        "dataset = pd.read_excel('dataset.xlsx',index_col= 0)\n",
        "dataset"
      ],
      "execution_count": null,
      "outputs": [
        {
          "output_type": "execute_result",
          "data": {
            "text/html": [
              "<div>\n",
              "<style scoped>\n",
              "    .dataframe tbody tr th:only-of-type {\n",
              "        vertical-align: middle;\n",
              "    }\n",
              "\n",
              "    .dataframe tbody tr th {\n",
              "        vertical-align: top;\n",
              "    }\n",
              "\n",
              "    .dataframe thead th {\n",
              "        text-align: right;\n",
              "    }\n",
              "</style>\n",
              "<table border=\"1\" class=\"dataframe\">\n",
              "  <thead>\n",
              "    <tr style=\"text-align: right;\">\n",
              "      <th></th>\n",
              "      <th>baterai</th>\n",
              "      <th>kamera</th>\n",
              "      <th>harga</th>\n",
              "      <th>layak</th>\n",
              "    </tr>\n",
              "    <tr>\n",
              "      <th>hp</th>\n",
              "      <th></th>\n",
              "      <th></th>\n",
              "      <th></th>\n",
              "      <th></th>\n",
              "    </tr>\n",
              "  </thead>\n",
              "  <tbody>\n",
              "    <tr>\n",
              "      <th>1</th>\n",
              "      <td>kuat</td>\n",
              "      <td>tinggi</td>\n",
              "      <td>sangat murah</td>\n",
              "      <td>y</td>\n",
              "    </tr>\n",
              "    <tr>\n",
              "      <th>2</th>\n",
              "      <td>kuat</td>\n",
              "      <td>tinggi</td>\n",
              "      <td>sangat mahal</td>\n",
              "      <td>y</td>\n",
              "    </tr>\n",
              "    <tr>\n",
              "      <th>3</th>\n",
              "      <td>kuat</td>\n",
              "      <td>sedang</td>\n",
              "      <td>mahal</td>\n",
              "      <td>y</td>\n",
              "    </tr>\n",
              "    <tr>\n",
              "      <th>4</th>\n",
              "      <td>kuat</td>\n",
              "      <td>rendah</td>\n",
              "      <td>mahal</td>\n",
              "      <td>n</td>\n",
              "    </tr>\n",
              "    <tr>\n",
              "      <th>5</th>\n",
              "      <td>cukup</td>\n",
              "      <td>tinggi</td>\n",
              "      <td>sangat murah</td>\n",
              "      <td>y</td>\n",
              "    </tr>\n",
              "    <tr>\n",
              "      <th>6</th>\n",
              "      <td>cukup</td>\n",
              "      <td>sedang</td>\n",
              "      <td>mahal</td>\n",
              "      <td>y</td>\n",
              "    </tr>\n",
              "    <tr>\n",
              "      <th>7</th>\n",
              "      <td>cukup</td>\n",
              "      <td>sedang</td>\n",
              "      <td>sangat mahal</td>\n",
              "      <td>y</td>\n",
              "    </tr>\n",
              "    <tr>\n",
              "      <th>8</th>\n",
              "      <td>cukup</td>\n",
              "      <td>tinggi</td>\n",
              "      <td>murah</td>\n",
              "      <td>y</td>\n",
              "    </tr>\n",
              "    <tr>\n",
              "      <th>9</th>\n",
              "      <td>cukup</td>\n",
              "      <td>rendah</td>\n",
              "      <td>mahal</td>\n",
              "      <td>n</td>\n",
              "    </tr>\n",
              "    <tr>\n",
              "      <th>10</th>\n",
              "      <td>lemah</td>\n",
              "      <td>tinggi</td>\n",
              "      <td>sangat murah</td>\n",
              "      <td>y</td>\n",
              "    </tr>\n",
              "    <tr>\n",
              "      <th>11</th>\n",
              "      <td>lemah</td>\n",
              "      <td>tinggi</td>\n",
              "      <td>sangat mahal</td>\n",
              "      <td>n</td>\n",
              "    </tr>\n",
              "    <tr>\n",
              "      <th>12</th>\n",
              "      <td>lemah</td>\n",
              "      <td>sedang</td>\n",
              "      <td>mahal</td>\n",
              "      <td>n</td>\n",
              "    </tr>\n",
              "    <tr>\n",
              "      <th>13</th>\n",
              "      <td>lemah</td>\n",
              "      <td>sedang</td>\n",
              "      <td>murah</td>\n",
              "      <td>n</td>\n",
              "    </tr>\n",
              "    <tr>\n",
              "      <th>14</th>\n",
              "      <td>lemah</td>\n",
              "      <td>rendah</td>\n",
              "      <td>sangat mahal</td>\n",
              "      <td>n</td>\n",
              "    </tr>\n",
              "  </tbody>\n",
              "</table>\n",
              "</div>"
            ],
            "text/plain": [
              "   baterai  kamera         harga layak\n",
              "hp                                    \n",
              "1     kuat  tinggi  sangat murah     y\n",
              "2     kuat  tinggi  sangat mahal     y\n",
              "3     kuat  sedang         mahal     y\n",
              "4     kuat  rendah         mahal     n\n",
              "5    cukup  tinggi  sangat murah     y\n",
              "6    cukup  sedang         mahal     y\n",
              "7    cukup  sedang  sangat mahal     y\n",
              "8    cukup  tinggi         murah     y\n",
              "9    cukup  rendah         mahal     n\n",
              "10   lemah  tinggi  sangat murah     y\n",
              "11   lemah  tinggi  sangat mahal     n\n",
              "12   lemah  sedang         mahal     n\n",
              "13   lemah  sedang         murah     n\n",
              "14   lemah  rendah  sangat mahal     n"
            ]
          },
          "metadata": {},
          "execution_count": 18
        }
      ]
    },
    {
      "cell_type": "markdown",
      "metadata": {
        "id": "B8y7FdwVtFtj"
      },
      "source": [
        "**PROGRAM UNTUK MEMBUAT TABEL TAMBAHAN BERDASARKAN KATEGORI**"
      ]
    },
    {
      "cell_type": "code",
      "metadata": {
        "id": "AMV1w8GkTbAa"
      },
      "source": [
        "# nama_kolom = \"harga\" #@param {type:\"string\"}\n",
        "# kategori = [\"sangat mahal\", \"mahal\", \"murah\", \"sangat murah\"] #@param {type:\"raw\"}\n",
        "\n",
        "# dict_final = {\n",
        "#     \"kategori_\"+nama_kolom : kategori,\n",
        "#     \"y\":[],\n",
        "#     \"n\":[]\n",
        "# }\n",
        "\n",
        "# for tipe in kategori:\n",
        "#   temp_layak = dataset[dataset[nama_kolom]==tipe][\"layak\"].value_counts()\n",
        "#   try:\n",
        "#     dict_final[\"y\"].append(temp_layak[\"y\"])\n",
        "#   except:\n",
        "#     dict_final[\"y\"].append(0)\n",
        "#   try:\n",
        "#     dict_final[\"n\"].append(temp_layak[\"n\"])\n",
        "#   except:\n",
        "#     dict_final[\"n\"].append(0)\n",
        "\n",
        "# harga = pd.DataFrame(dict_final)"
      ],
      "execution_count": null,
      "outputs": []
    },
    {
      "cell_type": "code",
      "metadata": {
        "colab": {
          "base_uri": "https://localhost:8080/",
          "height": 142
        },
        "id": "P3QOrxbhjBy_",
        "outputId": "7acb84a6-0929-4d5b-92c2-49400ce6742d"
      },
      "source": [
        "# baterai[\"y\"] = baterai[\"y\"]+1\n",
        "# baterai[\"n\"] = baterai[\"n\"]+1\n",
        "baterai"
      ],
      "execution_count": null,
      "outputs": [
        {
          "output_type": "execute_result",
          "data": {
            "text/html": [
              "<div>\n",
              "<style scoped>\n",
              "    .dataframe tbody tr th:only-of-type {\n",
              "        vertical-align: middle;\n",
              "    }\n",
              "\n",
              "    .dataframe tbody tr th {\n",
              "        vertical-align: top;\n",
              "    }\n",
              "\n",
              "    .dataframe thead th {\n",
              "        text-align: right;\n",
              "    }\n",
              "</style>\n",
              "<table border=\"1\" class=\"dataframe\">\n",
              "  <thead>\n",
              "    <tr style=\"text-align: right;\">\n",
              "      <th></th>\n",
              "      <th>kategori_baterai</th>\n",
              "      <th>y</th>\n",
              "      <th>n</th>\n",
              "    </tr>\n",
              "  </thead>\n",
              "  <tbody>\n",
              "    <tr>\n",
              "      <th>0</th>\n",
              "      <td>kuat</td>\n",
              "      <td>4</td>\n",
              "      <td>2</td>\n",
              "    </tr>\n",
              "    <tr>\n",
              "      <th>1</th>\n",
              "      <td>cukup</td>\n",
              "      <td>5</td>\n",
              "      <td>2</td>\n",
              "    </tr>\n",
              "    <tr>\n",
              "      <th>2</th>\n",
              "      <td>lemah</td>\n",
              "      <td>2</td>\n",
              "      <td>5</td>\n",
              "    </tr>\n",
              "  </tbody>\n",
              "</table>\n",
              "</div>"
            ],
            "text/plain": [
              "  kategori_baterai  y  n\n",
              "0             kuat  4  2\n",
              "1            cukup  5  2\n",
              "2            lemah  2  5"
            ]
          },
          "metadata": {},
          "execution_count": 31
        }
      ]
    },
    {
      "cell_type": "code",
      "metadata": {
        "colab": {
          "base_uri": "https://localhost:8080/",
          "height": 142
        },
        "id": "jg4cUDXejUKw",
        "outputId": "c1ea9bb8-62c1-44ec-81d5-b84090f32dee"
      },
      "source": [
        "# kamera[\"y\"] = kamera[\"y\"]+1\n",
        "# kamera[\"n\"] = kamera[\"n\"]+1\n",
        "kamera"
      ],
      "execution_count": null,
      "outputs": [
        {
          "output_type": "execute_result",
          "data": {
            "text/html": [
              "<div>\n",
              "<style scoped>\n",
              "    .dataframe tbody tr th:only-of-type {\n",
              "        vertical-align: middle;\n",
              "    }\n",
              "\n",
              "    .dataframe tbody tr th {\n",
              "        vertical-align: top;\n",
              "    }\n",
              "\n",
              "    .dataframe thead th {\n",
              "        text-align: right;\n",
              "    }\n",
              "</style>\n",
              "<table border=\"1\" class=\"dataframe\">\n",
              "  <thead>\n",
              "    <tr style=\"text-align: right;\">\n",
              "      <th></th>\n",
              "      <th>kategori_kamera</th>\n",
              "      <th>y</th>\n",
              "      <th>n</th>\n",
              "    </tr>\n",
              "  </thead>\n",
              "  <tbody>\n",
              "    <tr>\n",
              "      <th>0</th>\n",
              "      <td>tinggi</td>\n",
              "      <td>6</td>\n",
              "      <td>2</td>\n",
              "    </tr>\n",
              "    <tr>\n",
              "      <th>1</th>\n",
              "      <td>sedang</td>\n",
              "      <td>4</td>\n",
              "      <td>3</td>\n",
              "    </tr>\n",
              "    <tr>\n",
              "      <th>2</th>\n",
              "      <td>rendah</td>\n",
              "      <td>1</td>\n",
              "      <td>4</td>\n",
              "    </tr>\n",
              "  </tbody>\n",
              "</table>\n",
              "</div>"
            ],
            "text/plain": [
              "  kategori_kamera  y  n\n",
              "0          tinggi  6  2\n",
              "1          sedang  4  3\n",
              "2          rendah  1  4"
            ]
          },
          "metadata": {},
          "execution_count": 30
        }
      ]
    },
    {
      "cell_type": "code",
      "metadata": {
        "colab": {
          "base_uri": "https://localhost:8080/",
          "height": 173
        },
        "id": "BSIOFZcBjXMT",
        "outputId": "ee0f0753-a3ee-4aa3-b0ac-04e2feb979ea"
      },
      "source": [
        "# harga[\"y\"] = harga[\"y\"]+1\n",
        "# harga[\"n\"] = harga[\"n\"]+1\n",
        "harga"
      ],
      "execution_count": null,
      "outputs": [
        {
          "output_type": "execute_result",
          "data": {
            "text/html": [
              "<div>\n",
              "<style scoped>\n",
              "    .dataframe tbody tr th:only-of-type {\n",
              "        vertical-align: middle;\n",
              "    }\n",
              "\n",
              "    .dataframe tbody tr th {\n",
              "        vertical-align: top;\n",
              "    }\n",
              "\n",
              "    .dataframe thead th {\n",
              "        text-align: right;\n",
              "    }\n",
              "</style>\n",
              "<table border=\"1\" class=\"dataframe\">\n",
              "  <thead>\n",
              "    <tr style=\"text-align: right;\">\n",
              "      <th></th>\n",
              "      <th>kategori_harga</th>\n",
              "      <th>y</th>\n",
              "      <th>n</th>\n",
              "    </tr>\n",
              "  </thead>\n",
              "  <tbody>\n",
              "    <tr>\n",
              "      <th>0</th>\n",
              "      <td>sangat mahal</td>\n",
              "      <td>3</td>\n",
              "      <td>3</td>\n",
              "    </tr>\n",
              "    <tr>\n",
              "      <th>1</th>\n",
              "      <td>mahal</td>\n",
              "      <td>3</td>\n",
              "      <td>4</td>\n",
              "    </tr>\n",
              "    <tr>\n",
              "      <th>2</th>\n",
              "      <td>murah</td>\n",
              "      <td>2</td>\n",
              "      <td>2</td>\n",
              "    </tr>\n",
              "    <tr>\n",
              "      <th>3</th>\n",
              "      <td>sangat murah</td>\n",
              "      <td>4</td>\n",
              "      <td>1</td>\n",
              "    </tr>\n",
              "  </tbody>\n",
              "</table>\n",
              "</div>"
            ],
            "text/plain": [
              "  kategori_harga  y  n\n",
              "0   sangat mahal  3  3\n",
              "1          mahal  3  4\n",
              "2          murah  2  2\n",
              "3   sangat murah  4  1"
            ]
          },
          "metadata": {},
          "execution_count": 32
        }
      ]
    },
    {
      "cell_type": "code",
      "metadata": {
        "colab": {
          "base_uri": "https://localhost:8080/",
          "height": 111
        },
        "id": "FdG1bvF-jkg9",
        "outputId": "dfaa20b2-923c-4192-8bf0-2e164291ccfc"
      },
      "source": [
        "kelayakan = pd.DataFrame(dataset[\"layak\"].value_counts())\n",
        "kelayakan"
      ],
      "execution_count": null,
      "outputs": [
        {
          "output_type": "execute_result",
          "data": {
            "text/html": [
              "<div>\n",
              "<style scoped>\n",
              "    .dataframe tbody tr th:only-of-type {\n",
              "        vertical-align: middle;\n",
              "    }\n",
              "\n",
              "    .dataframe tbody tr th {\n",
              "        vertical-align: top;\n",
              "    }\n",
              "\n",
              "    .dataframe thead th {\n",
              "        text-align: right;\n",
              "    }\n",
              "</style>\n",
              "<table border=\"1\" class=\"dataframe\">\n",
              "  <thead>\n",
              "    <tr style=\"text-align: right;\">\n",
              "      <th></th>\n",
              "      <th>layak</th>\n",
              "    </tr>\n",
              "  </thead>\n",
              "  <tbody>\n",
              "    <tr>\n",
              "      <th>y</th>\n",
              "      <td>8</td>\n",
              "    </tr>\n",
              "    <tr>\n",
              "      <th>n</th>\n",
              "      <td>6</td>\n",
              "    </tr>\n",
              "  </tbody>\n",
              "</table>\n",
              "</div>"
            ],
            "text/plain": [
              "   layak\n",
              "y      8\n",
              "n      6"
            ]
          },
          "metadata": {},
          "execution_count": 33
        }
      ]
    },
    {
      "cell_type": "markdown",
      "metadata": {
        "id": "r_ZWVjhzk57X"
      },
      "source": [
        "**MAIN PROGRAM**"
      ]
    },
    {
      "cell_type": "code",
      "metadata": {
        "colab": {
          "base_uri": "https://localhost:8080/"
        },
        "id": "yQSE8nnuk4Mb",
        "outputId": "39ee8d09-0d1d-441c-91d9-d29208f2f2ba"
      },
      "source": [
        "baterai_inp = input(\"input kualitas baterai: \")\n",
        "kamera_inp = input(\"input kualitas kamera: \")\n",
        "harga_inp  = input(\"input kualitas harga: \")\n",
        "\n",
        "baterai2 = baterai.set_index(\"kategori_baterai\")\n",
        "kamera2 = kamera.set_index(\"kategori_kamera\")\n",
        "harga2 = harga.set_index(\"kategori_harga\")\n",
        "\n",
        "ya = ((baterai2.loc[baterai_inp][\"n\"])/sum(baterai2[\"y\"]) * (kamera2.loc[kamera_inp][\"y\"])/sum(kamera2[\"y\"]) * (harga2.loc[harga_inp][\"y\"])/sum(harga2[\"y\"]) * (kelayakan.loc[\"y\"]/ kelayakan.loc[\"y\"]+kelayakan.loc[\"n\"]))\n",
        "tidak = ((baterai2.loc[baterai_inp][\"n\"])/sum(baterai2[\"n\"]) * (kamera2.loc[kamera_inp][\"n\"])/sum(kamera2[\"n\"]) * (harga2.loc[harga_inp][\"n\"])/sum(harga2[\"n\"]) * (kelayakan.loc[\"n\"]/ kelayakan.loc[\"n\"]+kelayakan.loc[\"n\"]))\n",
        "\n",
        "pya = ya/(ya+tidak)\n",
        "print(\"\\npeluang ya :\", pya)\n",
        "ptidak = tidak/(ya+tidak)\n",
        "print(\"\\npeluang tidak :\", ptidak)\n",
        "\n",
        "if (float(pya)>float(ptidak)):\n",
        "  print(\"\\nlayak beli\")\n",
        "elif (float(pya)<float(ptidak)):\n",
        "  print(\"\\ntidak layak beli\")\n",
        "else:\n",
        "  print(\"tidak dapat ditentukan\")"
      ],
      "execution_count": null,
      "outputs": [
        {
          "output_type": "stream",
          "name": "stdout",
          "text": [
            "input kualitas baterai: kuat\n",
            "input kualitas kamera: sedang\n",
            "input kualitas harga: murah\n",
            "\n",
            "peluang ya : layak    0.42654\n",
            "dtype: float64\n",
            "\n",
            "peluang tidak : layak    0.57346\n",
            "dtype: float64\n",
            "\n",
            "tidak layak beli\n"
          ]
        }
      ]
    }
  ]
}